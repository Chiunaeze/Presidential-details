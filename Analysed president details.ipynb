{
 "cells": [
  {
   "cell_type": "markdown",
   "id": "7facff74-9c65-46a1-b507-a09bfa593b15",
   "metadata": {},
   "source": [
    "# Analysis of Historical US President dataset"
   ]
  },
  {
   "cell_type": "code",
   "execution_count": 4,
   "id": "95aaea33-f16f-4a3d-80c9-5504407342f7",
   "metadata": {},
   "outputs": [],
   "source": [
    "import numpy as np\n",
    "import pandas as pd"
   ]
  },
  {
   "cell_type": "code",
   "execution_count": 12,
   "id": "05055ea2-22b8-4159-8f0b-546fc9dd557e",
   "metadata": {},
   "outputs": [
    {
     "data": {
      "text/html": [
       "<div>\n",
       "<style scoped>\n",
       "    .dataframe tbody tr th:only-of-type {\n",
       "        vertical-align: middle;\n",
       "    }\n",
       "\n",
       "    .dataframe tbody tr th {\n",
       "        vertical-align: top;\n",
       "    }\n",
       "\n",
       "    .dataframe thead th {\n",
       "        text-align: right;\n",
       "    }\n",
       "</style>\n",
       "<table border=\"1\" class=\"dataframe\">\n",
       "  <thead>\n",
       "    <tr style=\"text-align: right;\">\n",
       "      <th></th>\n",
       "      <th>order</th>\n",
       "      <th>name</th>\n",
       "      <th>height_cm</th>\n",
       "      <th>height_in</th>\n",
       "      <th>weight_kg</th>\n",
       "      <th>weight_lb</th>\n",
       "      <th>body_mass_index</th>\n",
       "      <th>body_mass_index_range</th>\n",
       "      <th>birth_day</th>\n",
       "      <th>birth_month</th>\n",
       "      <th>...</th>\n",
       "      <th>term_begin_year</th>\n",
       "      <th>term_begin_date</th>\n",
       "      <th>term_end_day</th>\n",
       "      <th>term_end_month</th>\n",
       "      <th>term_end_year</th>\n",
       "      <th>term_end_date</th>\n",
       "      <th>presidency_begin_age</th>\n",
       "      <th>presidency_end_age</th>\n",
       "      <th>political_party</th>\n",
       "      <th>corrected_iq</th>\n",
       "    </tr>\n",
       "  </thead>\n",
       "  <tbody>\n",
       "    <tr>\n",
       "      <th>0</th>\n",
       "      <td>1</td>\n",
       "      <td>George Washington</td>\n",
       "      <td>188</td>\n",
       "      <td>74.0</td>\n",
       "      <td>79.4</td>\n",
       "      <td>175</td>\n",
       "      <td>22.5</td>\n",
       "      <td>Normal</td>\n",
       "      <td>22</td>\n",
       "      <td>2</td>\n",
       "      <td>...</td>\n",
       "      <td>1789</td>\n",
       "      <td>30-04-1789</td>\n",
       "      <td>4.0</td>\n",
       "      <td>3.0</td>\n",
       "      <td>1797.0</td>\n",
       "      <td>04-03-1797</td>\n",
       "      <td>57</td>\n",
       "      <td>65.0</td>\n",
       "      <td>Unaffiliated</td>\n",
       "      <td>140.0</td>\n",
       "    </tr>\n",
       "    <tr>\n",
       "      <th>1</th>\n",
       "      <td>2</td>\n",
       "      <td>John Adams</td>\n",
       "      <td>170</td>\n",
       "      <td>67.0</td>\n",
       "      <td>83.9</td>\n",
       "      <td>185</td>\n",
       "      <td>29.0</td>\n",
       "      <td>Overweight</td>\n",
       "      <td>30</td>\n",
       "      <td>10</td>\n",
       "      <td>...</td>\n",
       "      <td>1797</td>\n",
       "      <td>04-03-1797</td>\n",
       "      <td>4.0</td>\n",
       "      <td>3.0</td>\n",
       "      <td>1801.0</td>\n",
       "      <td>04-03-1801</td>\n",
       "      <td>61</td>\n",
       "      <td>65.0</td>\n",
       "      <td>Federalist</td>\n",
       "      <td>155.0</td>\n",
       "    </tr>\n",
       "    <tr>\n",
       "      <th>2</th>\n",
       "      <td>3</td>\n",
       "      <td>Thomas Jefferson</td>\n",
       "      <td>189</td>\n",
       "      <td>74.5</td>\n",
       "      <td>82.1</td>\n",
       "      <td>181</td>\n",
       "      <td>23.0</td>\n",
       "      <td>Normal</td>\n",
       "      <td>13</td>\n",
       "      <td>4</td>\n",
       "      <td>...</td>\n",
       "      <td>1801</td>\n",
       "      <td>04-03-1801</td>\n",
       "      <td>4.0</td>\n",
       "      <td>3.0</td>\n",
       "      <td>1809.0</td>\n",
       "      <td>04-03-1809</td>\n",
       "      <td>57</td>\n",
       "      <td>65.0</td>\n",
       "      <td>Democratic-Republican</td>\n",
       "      <td>160.0</td>\n",
       "    </tr>\n",
       "    <tr>\n",
       "      <th>3</th>\n",
       "      <td>4</td>\n",
       "      <td>James Madison</td>\n",
       "      <td>163</td>\n",
       "      <td>64.0</td>\n",
       "      <td>55.3</td>\n",
       "      <td>122</td>\n",
       "      <td>20.8</td>\n",
       "      <td>Normal</td>\n",
       "      <td>16</td>\n",
       "      <td>3</td>\n",
       "      <td>...</td>\n",
       "      <td>1809</td>\n",
       "      <td>04-03-1809</td>\n",
       "      <td>4.0</td>\n",
       "      <td>3.0</td>\n",
       "      <td>1817.0</td>\n",
       "      <td>04-03-1817</td>\n",
       "      <td>57</td>\n",
       "      <td>65.0</td>\n",
       "      <td>Democratic-Republican</td>\n",
       "      <td>160.0</td>\n",
       "    </tr>\n",
       "    <tr>\n",
       "      <th>4</th>\n",
       "      <td>5</td>\n",
       "      <td>James Monroe</td>\n",
       "      <td>183</td>\n",
       "      <td>72.0</td>\n",
       "      <td>85.7</td>\n",
       "      <td>189</td>\n",
       "      <td>25.6</td>\n",
       "      <td>Overweight</td>\n",
       "      <td>28</td>\n",
       "      <td>4</td>\n",
       "      <td>...</td>\n",
       "      <td>1817</td>\n",
       "      <td>04-03-1817</td>\n",
       "      <td>4.0</td>\n",
       "      <td>3.0</td>\n",
       "      <td>1825.0</td>\n",
       "      <td>04-03-1825</td>\n",
       "      <td>58</td>\n",
       "      <td>66.0</td>\n",
       "      <td>Democratic-Republican</td>\n",
       "      <td>139.0</td>\n",
       "    </tr>\n",
       "  </tbody>\n",
       "</table>\n",
       "<p>5 rows × 32 columns</p>\n",
       "</div>"
      ],
      "text/plain": [
       "  order               name  height_cm  height_in  weight_kg  weight_lb  \\\n",
       "0     1  George Washington        188       74.0       79.4        175   \n",
       "1     2         John Adams        170       67.0       83.9        185   \n",
       "2     3   Thomas Jefferson        189       74.5       82.1        181   \n",
       "3     4      James Madison        163       64.0       55.3        122   \n",
       "4     5       James Monroe        183       72.0       85.7        189   \n",
       "\n",
       "   body_mass_index body_mass_index_range  birth_day  birth_month  ...  \\\n",
       "0             22.5                Normal         22            2  ...   \n",
       "1             29.0            Overweight         30           10  ...   \n",
       "2             23.0                Normal         13            4  ...   \n",
       "3             20.8                Normal         16            3  ...   \n",
       "4             25.6            Overweight         28            4  ...   \n",
       "\n",
       "   term_begin_year term_begin_date term_end_day term_end_month  term_end_year  \\\n",
       "0             1789      30-04-1789          4.0            3.0         1797.0   \n",
       "1             1797      04-03-1797          4.0            3.0         1801.0   \n",
       "2             1801      04-03-1801          4.0            3.0         1809.0   \n",
       "3             1809      04-03-1809          4.0            3.0         1817.0   \n",
       "4             1817      04-03-1817          4.0            3.0         1825.0   \n",
       "\n",
       "   term_end_date  presidency_begin_age presidency_end_age  \\\n",
       "0     04-03-1797                    57               65.0   \n",
       "1     04-03-1801                    61               65.0   \n",
       "2     04-03-1809                    57               65.0   \n",
       "3     04-03-1817                    57               65.0   \n",
       "4     04-03-1825                    58               66.0   \n",
       "\n",
       "         political_party corrected_iq  \n",
       "0           Unaffiliated        140.0  \n",
       "1             Federalist        155.0  \n",
       "2  Democratic-Republican        160.0  \n",
       "3  Democratic-Republican        160.0  \n",
       "4  Democratic-Republican        139.0  \n",
       "\n",
       "[5 rows x 32 columns]"
      ]
     },
     "execution_count": 12,
     "metadata": {},
     "output_type": "execute_result"
    }
   ],
   "source": [
    "# import the dataset to a pandas data frame\n",
    "df = pd.read_csv(\"president_details.csv\")\n",
    "df.head()"
   ]
  },
  {
   "cell_type": "code",
   "execution_count": 15,
   "id": "1f5124de-6d68-46e2-a1ca-7972e0ee01f4",
   "metadata": {},
   "outputs": [
    {
     "name": "stdout",
     "output_type": "stream",
     "text": [
      "[['1' 'George Washington' 188 74.0 79.4 175 22.5 'Normal' 22 2 1732\n",
      "  '22-02-1732' 'Westmoreland County' 'Virginia' 14.0 12.0 1799.0\n",
      "  '14-12-1799' 67.0 'Pisces' 30 4 1789 '30-04-1789' 4.0 3.0 1797.0\n",
      "  '04-03-1797' 57 65.0 'Unaffiliated' 140.0]\n",
      " ['2' 'John Adams' 170 67.0 83.9 185 29.0 'Overweight' 30 10 1735\n",
      "  '30-10-1735' 'Braintree' 'Massachusetts' 4.0 7.0 1826.0 '04-07-1826'\n",
      "  90.0 'Scorpio' 4 3 1797 '04-03-1797' 4.0 3.0 1801.0 '04-03-1801' 61\n",
      "  65.0 'Federalist' 155.0]\n",
      " ['3' 'Thomas Jefferson' 189 74.5 82.1 181 23.0 'Normal' 13 4 1743\n",
      "  '13-04-1743' 'Shadwell' 'Virginia' 4.0 7.0 1826.0 '04-07-1826' 83.0\n",
      "  'Aries' 4 3 1801 '04-03-1801' 4.0 3.0 1809.0 '04-03-1809' 57 65.0\n",
      "  'Democratic-Republican' 160.0]\n",
      " ['4' 'James Madison' 163 64.0 55.3 122 20.8 'Normal' 16 3 1751\n",
      "  '16-03-1751' 'Port Conway' 'Virginia' 28.0 6.0 1836.0 '28-06-1836' 85.0\n",
      "  'Pisces' 4 3 1809 '04-03-1809' 4.0 3.0 1817.0 '04-03-1817' 57 65.0\n",
      "  'Democratic-Republican' 160.0]\n",
      " ['5' 'James Monroe' 183 72.0 85.7 189 25.6 'Overweight' 28 4 1758\n",
      "  '28-04-1758' 'Monroe Hall' 'Virginia' 4.0 7.0 1831.0 '04-07-1831' 73.0\n",
      "  'Taurus' 4 3 1817 '04-03-1817' 4.0 3.0 1825.0 '04-03-1825' 58 66.0\n",
      "  'Democratic-Republican' 139.0]]\n"
     ]
    }
   ],
   "source": [
    "arr = df.to_numpy()\n",
    "print(arr[:5,:])"
   ]
  },
  {
   "cell_type": "code",
   "execution_count": 18,
   "id": "f09bfae9-bbe8-4619-8d94-22f4908984ed",
   "metadata": {},
   "outputs": [
    {
     "name": "stdout",
     "output_type": "stream",
     "text": [
      "[[188 79.4]\n",
      " [170 83.9]\n",
      " [189 82.1]\n",
      " [163 55.3]\n",
      " [183 85.7]\n",
      " [171 92.1]\n",
      " [185 63.5]\n",
      " [168 74.4]\n",
      " [173 73.5]\n",
      " [183 72.6]\n",
      " [173 78.9]\n",
      " [173 104.3]\n",
      " [175 65.3]\n",
      " [178 73.5]\n",
      " [183 98.4]\n",
      " [193 83.9]\n",
      " [178 69.9]\n",
      " [173 70.8]\n",
      " [174 79.4]\n",
      " [183 90.7]\n",
      " [188 101.6]\n",
      " [180 117.9]\n",
      " [168 72.6]\n",
      " [170 90.3]\n",
      " [178 107.5]\n",
      " [182 154.2]\n",
      " [180 77.1]\n",
      " [183 78.5]\n",
      " [178 70.8]\n",
      " [182 84.8]\n",
      " [188 86.2]\n",
      " [175 75.7]\n",
      " [179 78.0]\n",
      " [185 79.4]\n",
      " [192 95.3]\n",
      " [182 79.4]\n",
      " [183 86.2]\n",
      " [177 80.3]\n",
      " [185 81.6]\n",
      " [188 88.5]\n",
      " [188 101.2]\n",
      " [182 84.4]\n",
      " [185 81.6]\n",
      " [191 107.5]\n",
      " [182 80.7]]\n"
     ]
    }
   ],
   "source": [
    "arr1 = arr[:, (2, 4)]\n",
    "print(arr1)"
   ]
  },
  {
   "cell_type": "code",
   "execution_count": 22,
   "id": "1081c6c9-9601-487e-93da-5dead53ab13d",
   "metadata": {},
   "outputs": [
    {
     "name": "stdout",
     "output_type": "stream",
     "text": [
      "(45, 2)\n",
      "90\n",
      "[[188 79.4 170 83.9 189 82.1 163 55.3 183 85.7 171 92.1 185 63.5 168 74.4\n",
      "  173 73.5 183 72.6 173 78.9 173 104.3 175 65.3 178 73.5 183 98.4 193\n",
      "  83.9 178 69.9 173 70.8 174 79.4 183 90.7 188 101.6 180 117.9 168]\n",
      " [72.6 170 90.3 178 107.5 182 154.2 180 77.1 183 78.5 178 70.8 182 84.8\n",
      "  188 86.2 175 75.7 179 78.0 185 79.4 192 95.3 182 79.4 183 86.2 177 80.3\n",
      "  185 81.6 188 88.5 188 101.2 182 84.4 185 81.6 191 107.5 182 80.7]]\n"
     ]
    }
   ],
   "source": [
    "print(arr1.shape)\n",
    "print(arr1.size)\n",
    "print(arr1.reshape(2, 45))"
   ]
  },
  {
   "cell_type": "code",
   "execution_count": 23,
   "id": "a701d450-4aa5-4ac2-99f8-3f7606e1c21c",
   "metadata": {},
   "outputs": [
    {
     "name": "stdout",
     "output_type": "stream",
     "text": [
      "[188 170 189 163 183 171 185 168 173 183 173 173 175 178 183 193 178 173\n",
      " 174 183 188 180 168 170 178 182 180 183 178 182 188 175 179 185 192 182\n",
      " 183 177 185 188 188 182 185 191 182]\n",
      "[79.4 83.9 82.1 55.3 85.7 92.1 63.5 74.4 73.5 72.6 78.9 104.3 65.3 73.5\n",
      " 98.4 83.9 69.9 70.8 79.4 90.7 101.6 117.9 72.6 90.3 107.5 154.2 77.1 78.5\n",
      " 70.8 84.8 86.2 75.7 78.0 79.4 95.3 79.4 86.2 80.3 81.6 88.5 101.2 84.4\n",
      " 81.6 107.5 80.7]\n"
     ]
    }
   ],
   "source": [
    "height = arr1[:, 0]\n",
    "weight = arr1[:, -1]\n",
    "\n",
    "print(height)\n",
    "print(weight)"
   ]
  },
  {
   "cell_type": "markdown",
   "id": "56b11332-da47-4916-9a86-07b4e7d1df6e",
   "metadata": {},
   "source": [
    "# Array indexing"
   ]
  },
  {
   "cell_type": "code",
   "execution_count": 24,
   "id": "618eb828-71da-4b63-a202-daf556952f80",
   "metadata": {},
   "outputs": [
    {
     "name": "stdout",
     "output_type": "stream",
     "text": [
      "185\n",
      "168\n",
      "173\n"
     ]
    }
   ],
   "source": [
    "# indexing the 6th element in the height array\n",
    "#indexing the 22nt element in the height array\n",
    "#indexing the 10th element in the height array\n",
    "\n",
    "print(height[6])\n",
    "print(height[22])\n",
    "print(height[10])"
   ]
  },
  {
   "cell_type": "markdown",
   "id": "ee6d32a9-a3c2-40c6-aa0d-2c78689e8c90",
   "metadata": {},
   "source": [
    "# Arithmetic operations"
   ]
  },
  {
   "cell_type": "code",
   "execution_count": 25,
   "id": "a70b96fe-088b-4b9e-8295-42543f55ab6e",
   "metadata": {},
   "outputs": [
    {
     "data": {
      "text/plain": [
       "180.15555555555557"
      ]
     },
     "execution_count": 25,
     "metadata": {},
     "output_type": "execute_result"
    }
   ],
   "source": [
    "np.mean(height)"
   ]
  },
  {
   "cell_type": "code",
   "execution_count": 26,
   "id": "8aaaf798-a617-4a59-b492-1772ce211cf4",
   "metadata": {},
   "outputs": [
    {
     "data": {
      "text/plain": [
       "163"
      ]
     },
     "execution_count": 26,
     "metadata": {},
     "output_type": "execute_result"
    }
   ],
   "source": [
    "np.min(height)"
   ]
  },
  {
   "cell_type": "code",
   "execution_count": 27,
   "id": "cee943d2-e77e-42e0-b171-36ec939ffa02",
   "metadata": {},
   "outputs": [
    {
     "data": {
      "text/plain": [
       "193"
      ]
     },
     "execution_count": 27,
     "metadata": {},
     "output_type": "execute_result"
    }
   ],
   "source": [
    "np.max(height)"
   ]
  },
  {
   "cell_type": "code",
   "execution_count": 29,
   "id": "bb7d3740-6b33-4896-89e6-b26e35c3a2ce",
   "metadata": {},
   "outputs": [
    {
     "name": "stdout",
     "output_type": "stream",
     "text": [
      "[163 168 168 170 170 171 173 173 173 173 174 175 175 177 178 178 178 178\n",
      " 179 180 180 182 182 182 182 182 183 183 183 183 183 183 185 185 185 185\n",
      " 188 188 188 188 188 189 191 192 193]\n"
     ]
    }
   ],
   "source": [
    "#sort this height\n",
    "sorted_height = np.sort(height)\n",
    "print(sorted_height)"
   ]
  },
  {
   "cell_type": "code",
   "execution_count": null,
   "id": "5d118506-4d62-40e2-a4a3-bbe575e961d6",
   "metadata": {},
   "outputs": [],
   "source": []
  },
  {
   "cell_type": "code",
   "execution_count": null,
   "id": "29d7e8c4-ac71-4a55-bffe-3608199aa39c",
   "metadata": {},
   "outputs": [],
   "source": []
  },
  {
   "cell_type": "code",
   "execution_count": null,
   "id": "05f2fd6f-f116-4952-a107-f101a7482684",
   "metadata": {},
   "outputs": [],
   "source": []
  }
 ],
 "metadata": {
  "kernelspec": {
   "display_name": "Python 3 (ipykernel)",
   "language": "python",
   "name": "python3"
  },
  "language_info": {
   "codemirror_mode": {
    "name": "ipython",
    "version": 3
   },
   "file_extension": ".py",
   "mimetype": "text/x-python",
   "name": "python",
   "nbconvert_exporter": "python",
   "pygments_lexer": "ipython3",
   "version": "3.11.7"
  }
 },
 "nbformat": 4,
 "nbformat_minor": 5
}
